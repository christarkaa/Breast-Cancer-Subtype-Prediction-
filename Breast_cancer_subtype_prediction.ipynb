{
 "cells": [
  {
   "cell_type": "markdown",
   "metadata": {},
   "source": [
    "# Gene Expression-Based Prediction of Breast Cancer Subtypes Using Random Forest Algorithms"
   ]
  },
  {
   "cell_type": "markdown",
   "metadata": {},
   "source": [
    "Load and prepare data"
   ]
  },
  {
   "cell_type": "code",
   "execution_count": 1,
   "metadata": {},
   "outputs": [],
   "source": [
    "import pandas as pd\n",
    "\n",
    "# Load gene expression data\n",
    "gene_expression_file = '/Users/christophertarkaa/Downloads/brca_metabric/data_mrna_illumina_microarray_zscores_ref_diploid_samples.txt'\n",
    "gene_expression_data = pd.read_csv(gene_expression_file, sep='\\t')"
   ]
  },
  {
   "cell_type": "code",
   "execution_count": 2,
   "metadata": {},
   "outputs": [],
   "source": [
    "# Load clinical data\n",
    "clinical_data_file = '/Users/christophertarkaa/Downloads/brca_metabric/data_clinical_sample.txt'\n",
    "clinical_data = pd.read_csv(clinical_data_file, sep='\\t')"
   ]
  },
  {
   "cell_type": "code",
   "execution_count": 3,
   "metadata": {},
   "outputs": [
    {
     "name": "stdout",
     "output_type": "stream",
     "text": [
      "  Hugo_Symbol  Entrez_Gene_Id  MB-0362  MB-0346  MB-0386  MB-0574  MB-0185  \\\n",
      "0        RERE             473  -0.7139   1.2266  -0.0053  -0.4399  -0.5958   \n",
      "1      RNF165          494470  -0.4606   0.3564  -0.6800  -1.0563  -0.0377   \n",
      "2        PHF7           51533  -0.3325  -1.0617   0.2587  -0.2982  -1.2422   \n",
      "3       CIDEA            1149  -0.0129  -1.0394   3.2991  -0.2632  -1.0949   \n",
      "4       TENT2          167153  -0.7853   0.0337  -0.6649   2.1640  -0.2031   \n",
      "\n",
      "   MB-0503  MB-0641  MB-0201  ...  MB-6192  MB-4820  MB-5527  MB-5167  \\\n",
      "0   0.4729   0.4974  -1.1900  ...  -0.4596   1.8975   1.1120   1.1942   \n",
      "1  -0.6829  -0.2854  -0.4336  ...  -1.0927   0.9103  -0.0023  -0.2898   \n",
      "2   0.0558  -0.5011  -0.6418  ...  -0.0725   0.7219   0.1402   0.8718   \n",
      "3   1.2628   2.0796  -0.8310  ...   0.0679  -0.7126  -0.1523  -0.7593   \n",
      "4   1.0304   0.6046  -1.7557  ...   0.6400  -0.1102   1.2719   0.8178   \n",
      "\n",
      "   MB-5465  MB-5453  MB-5471  MB-5127  MB-4313  MB-4823  \n",
      "0  -1.7974   1.1339   0.0259  -0.3529  -1.2327   1.7217  \n",
      "1   3.5763   1.3429   0.5726   0.1731   0.5482   1.2239  \n",
      "2  -0.9275  -0.0587   0.5240  -0.0311   4.4925  -0.2173  \n",
      "3  -0.7141  -0.4324  -0.0336  -0.4003   2.4698  -0.7268  \n",
      "4  -1.0301   0.6082   0.5608   2.4222  -3.2853   0.4181  \n",
      "\n",
      "[5 rows x 1982 columns]\n",
      "                          #Patient Identifier            Sample Identifier  \\\n",
      "0  #Identifier to uniquely specify a patient.  A unique sample identifier.   \n",
      "1                                     #STRING                       STRING   \n",
      "2                                          #1                            1   \n",
      "3                                  PATIENT_ID                    SAMPLE_ID   \n",
      "4                                     MB-0000                      MB-0000   \n",
      "\n",
      "     Cancer Type              Cancer Type Detailed  ER Status  HER2 Status  \\\n",
      "0    Cancer Type              Cancer Type Detailed  ER Status  HER2 Status   \n",
      "1         STRING                            STRING     STRING       STRING   \n",
      "2              1                                 1          1            1   \n",
      "3    CANCER_TYPE              CANCER_TYPE_DETAILED  ER_STATUS  HER2_STATUS   \n",
      "4  Breast Cancer  Breast Invasive Ductal Carcinoma   Positive     Negative   \n",
      "\n",
      "                           Neoplasm Histologic Grade  Oncotree Code  \\\n",
      "0  Numeric value to express the degree of abnorma...  Oncotree Code   \n",
      "1                                             STRING         STRING   \n",
      "2                                                  1              1   \n",
      "3                                              GRADE  ONCOTREE_CODE   \n",
      "4                                                  3            IDC   \n",
      "\n",
      "   PR Status                                        Sample Type   Tumor Size  \\\n",
      "0  PR Status  The type of sample (i.e., normal, primary, met...  Tumor size.   \n",
      "1     STRING                                             STRING       STRING   \n",
      "2          1                                                  1            1   \n",
      "3  PR_STATUS                                        SAMPLE_TYPE   TUMOR_SIZE   \n",
      "4   Negative                                            Primary           22   \n",
      "\n",
      "    Tumor Stage  TMB (nonsynonymous)  \n",
      "0  Tumor stage.  TMB (nonsynonymous)  \n",
      "1        STRING               NUMBER  \n",
      "2             1                    1  \n",
      "3   TUMOR_STAGE    TMB_NONSYNONYMOUS  \n",
      "4             2                    0  \n"
     ]
    }
   ],
   "source": [
    "# Display first few rows of each dataframe to understand their structure\n",
    "print(gene_expression_data.head())\n",
    "print(clinical_data.head())"
   ]
  },
  {
   "cell_type": "code",
   "execution_count": 4,
   "metadata": {},
   "outputs": [
    {
     "name": "stdout",
     "output_type": "stream",
     "text": [
      "Index(['Hugo_Symbol', 'Entrez_Gene_Id', 'MB-0362', 'MB-0346', 'MB-0386',\n",
      "       'MB-0574', 'MB-0185', 'MB-0503', 'MB-0641', 'MB-0201',\n",
      "       ...\n",
      "       'MB-6192', 'MB-4820', 'MB-5527', 'MB-5167', 'MB-5465', 'MB-5453',\n",
      "       'MB-5471', 'MB-5127', 'MB-4313', 'MB-4823'],\n",
      "      dtype='object', length=1982)\n",
      "Index(['#Patient Identifier', 'Sample Identifier', 'Cancer Type',\n",
      "       'Cancer Type Detailed', 'ER Status', 'HER2 Status',\n",
      "       'Neoplasm Histologic Grade', 'Oncotree Code', 'PR Status',\n",
      "       'Sample Type', 'Tumor Size', 'Tumor Stage', 'TMB (nonsynonymous)'],\n",
      "      dtype='object')\n"
     ]
    }
   ],
   "source": [
    "# Check column names for common identifier\n",
    "print(gene_expression_data.columns)\n",
    "print(clinical_data.columns)"
   ]
  },
  {
   "cell_type": "code",
   "execution_count": 5,
   "metadata": {},
   "outputs": [
    {
     "name": "stdout",
     "output_type": "stream",
     "text": [
      "  Hugo_Symbol  Entrez_Gene_Id  MB-0362  MB-0346  MB-0386  MB-0574  MB-0185  \\\n",
      "0        RERE             473  -0.7139   1.2266  -0.0053  -0.4399  -0.5958   \n",
      "1      RNF165          494470  -0.4606   0.3564  -0.6800  -1.0563  -0.0377   \n",
      "2        PHF7           51533  -0.3325  -1.0617   0.2587  -0.2982  -1.2422   \n",
      "3       CIDEA            1149  -0.0129  -1.0394   3.2991  -0.2632  -1.0949   \n",
      "4       TENT2          167153  -0.7853   0.0337  -0.6649   2.1640  -0.2031   \n",
      "\n",
      "   MB-0503  MB-0641  MB-0201  ...  MB-6192  MB-4820  MB-5527  MB-5167  \\\n",
      "0   0.4729   0.4974  -1.1900  ...  -0.4596   1.8975   1.1120   1.1942   \n",
      "1  -0.6829  -0.2854  -0.4336  ...  -1.0927   0.9103  -0.0023  -0.2898   \n",
      "2   0.0558  -0.5011  -0.6418  ...  -0.0725   0.7219   0.1402   0.8718   \n",
      "3   1.2628   2.0796  -0.8310  ...   0.0679  -0.7126  -0.1523  -0.7593   \n",
      "4   1.0304   0.6046  -1.7557  ...   0.6400  -0.1102   1.2719   0.8178   \n",
      "\n",
      "   MB-5465  MB-5453  MB-5471  MB-5127  MB-4313  MB-4823  \n",
      "0  -1.7974   1.1339   0.0259  -0.3529  -1.2327   1.7217  \n",
      "1   3.5763   1.3429   0.5726   0.1731   0.5482   1.2239  \n",
      "2  -0.9275  -0.0587   0.5240  -0.0311   4.4925  -0.2173  \n",
      "3  -0.7141  -0.4324  -0.0336  -0.4003   2.4698  -0.7268  \n",
      "4  -1.0301   0.6082   0.5608   2.4222  -3.2853   0.4181  \n",
      "\n",
      "[5 rows x 1982 columns]\n",
      "                          #Patient Identifier            Sample Identifier  \\\n",
      "0  #Identifier to uniquely specify a patient.  A unique sample identifier.   \n",
      "1                                     #STRING                       STRING   \n",
      "2                                          #1                            1   \n",
      "3                                  PATIENT_ID                    SAMPLE_ID   \n",
      "4                                     MB-0000                      MB-0000   \n",
      "\n",
      "     Cancer Type              Cancer Type Detailed  ER Status  HER2 Status  \\\n",
      "0    Cancer Type              Cancer Type Detailed  ER Status  HER2 Status   \n",
      "1         STRING                            STRING     STRING       STRING   \n",
      "2              1                                 1          1            1   \n",
      "3    CANCER_TYPE              CANCER_TYPE_DETAILED  ER_STATUS  HER2_STATUS   \n",
      "4  Breast Cancer  Breast Invasive Ductal Carcinoma   Positive     Negative   \n",
      "\n",
      "                           Neoplasm Histologic Grade  Oncotree Code  \\\n",
      "0  Numeric value to express the degree of abnorma...  Oncotree Code   \n",
      "1                                             STRING         STRING   \n",
      "2                                                  1              1   \n",
      "3                                              GRADE  ONCOTREE_CODE   \n",
      "4                                                  3            IDC   \n",
      "\n",
      "   PR Status                                        Sample Type   Tumor Size  \\\n",
      "0  PR Status  The type of sample (i.e., normal, primary, met...  Tumor size.   \n",
      "1     STRING                                             STRING       STRING   \n",
      "2          1                                                  1            1   \n",
      "3  PR_STATUS                                        SAMPLE_TYPE   TUMOR_SIZE   \n",
      "4   Negative                                            Primary           22   \n",
      "\n",
      "    Tumor Stage  TMB (nonsynonymous)  \n",
      "0  Tumor stage.  TMB (nonsynonymous)  \n",
      "1        STRING               NUMBER  \n",
      "2             1                    1  \n",
      "3   TUMOR_STAGE    TMB_NONSYNONYMOUS  \n",
      "4             2                    0  \n"
     ]
    }
   ],
   "source": [
    "# Display first few rows of each dataframe to understand their structure\n",
    "print(gene_expression_data.head())\n",
    "print(clinical_data.head())"
   ]
  },
  {
   "cell_type": "markdown",
   "metadata": {},
   "source": [
    "Prepare the Features and Target"
   ]
  },
  {
   "cell_type": "code",
   "execution_count": 6,
   "metadata": {},
   "outputs": [],
   "source": [
    "# Transpose gene expression data to have samples as rows and genes as columns\n",
    "gene_expression_data = gene_expression_data.set_index('Hugo_Symbol').T\n",
    "gene_expression_data.index.name = 'Sample Identifier'\n",
    "gene_expression_data.reset_index(inplace=True)"
   ]
  },
  {
   "cell_type": "code",
   "execution_count": 7,
   "metadata": {},
   "outputs": [],
   "source": [
    "# Merge datasets on 'Sample Identifier'\n",
    "merged_data = gene_expression_data.merge(clinical_data[['Sample Identifier', 'Cancer Type Detailed']], on='Sample Identifier')"
   ]
  },
  {
   "cell_type": "code",
   "execution_count": 8,
   "metadata": {},
   "outputs": [],
   "source": [
    "# Prepare features (X) and target (y)\n",
    "X = merged_data.drop(columns=['Sample Identifier', 'Cancer Type Detailed'])\n",
    "y = merged_data['Cancer Type Detailed']"
   ]
  },
  {
   "cell_type": "code",
   "execution_count": 9,
   "metadata": {},
   "outputs": [
    {
     "name": "stdout",
     "output_type": "stream",
     "text": [
      "Features shape: (1980, 20603)\n",
      "Target shape: (1980,)\n"
     ]
    }
   ],
   "source": [
    "# Display the shape of features and target\n",
    "print(\"Features shape:\", X.shape)\n",
    "print(\"Target shape:\", y.shape)"
   ]
  },
  {
   "cell_type": "markdown",
   "metadata": {},
   "source": [
    "Handling missing values"
   ]
  },
  {
   "cell_type": "code",
   "execution_count": 10,
   "metadata": {},
   "outputs": [],
   "source": [
    "from sklearn.impute import SimpleImputer\n",
    "\n",
    "# Impute missing values with the mean of each feature\n",
    "imputer = SimpleImputer(strategy='mean')\n",
    "X_imputed = imputer.fit_transform(X)\n",
    "\n",
    "# Convert the imputed array back to a DataFrame\n",
    "X = pd.DataFrame(X_imputed, columns=X.columns)"
   ]
  },
  {
   "cell_type": "markdown",
   "metadata": {},
   "source": [
    "Split Data into Training, Validation, and Test Sets"
   ]
  },
  {
   "cell_type": "code",
   "execution_count": 11,
   "metadata": {},
   "outputs": [],
   "source": [
    "from sklearn.model_selection import train_test_split"
   ]
  },
  {
   "cell_type": "code",
   "execution_count": 12,
   "metadata": {},
   "outputs": [],
   "source": [
    "# Split data into initial training + validation and test sets (80% training + validation, 20% testing)\n",
    "X_train_val, X_test, y_train_val, y_test = train_test_split(X, y, test_size=0.2, random_state=42)"
   ]
  },
  {
   "cell_type": "code",
   "execution_count": 13,
   "metadata": {},
   "outputs": [],
   "source": [
    "# Further split the training + validation set into training and validation sets (80% training, 20% validation)\n",
    "X_train, X_val, y_train, y_val = train_test_split(X_train_val, y_train_val, test_size=0.2, random_state=42)"
   ]
  },
  {
   "cell_type": "code",
   "execution_count": 14,
   "metadata": {},
   "outputs": [
    {
     "name": "stdout",
     "output_type": "stream",
     "text": [
      "Training set shape: (1267, 20603)\n",
      "Validation set shape: (317, 20603)\n",
      "Test set shape: (396, 20603)\n"
     ]
    }
   ],
   "source": [
    "# Print the shapes of the datasets\n",
    "print(\"Training set shape:\", X_train.shape)\n",
    "print(\"Validation set shape:\", X_val.shape)\n",
    "print(\"Test set shape:\", X_test.shape)"
   ]
  },
  {
   "cell_type": "markdown",
   "metadata": {},
   "source": [
    "Adress class imbalance"
   ]
  },
  {
   "cell_type": "code",
   "execution_count": 15,
   "metadata": {},
   "outputs": [
    {
     "name": "stdout",
     "output_type": "stream",
     "text": [
      "Training set class distribution: Counter({'Breast Invasive Ductal Carcinoma': 973, 'Breast Mixed Ductal and Lobular Carcinoma': 135, 'Breast Invasive Lobular Carcinoma': 101, 'Invasive Breast Carcinoma': 31, 'Breast Invasive Mixed Mucinous Carcinoma': 13, 'Breast': 12, 'Breast Angiosarcoma': 1, 'Metaplastic Breast Cancer': 1})\n",
      "Validation set class distribution: Counter({'Breast Invasive Ductal Carcinoma': 255, 'Breast Mixed Ductal and Lobular Carcinoma': 37, 'Breast Invasive Lobular Carcinoma': 14, 'Breast Invasive Mixed Mucinous Carcinoma': 4, 'Invasive Breast Carcinoma': 4, 'Breast': 2, 'Metaplastic Breast Cancer': 1})\n",
      "Test set class distribution: Counter({'Breast Invasive Ductal Carcinoma': 309, 'Breast Mixed Ductal and Lobular Carcinoma': 39, 'Breast Invasive Lobular Carcinoma': 31, 'Invasive Breast Carcinoma': 7, 'Breast Invasive Mixed Mucinous Carcinoma': 6, 'Breast': 3, 'Breast Angiosarcoma': 1})\n"
     ]
    }
   ],
   "source": [
    "from collections import Counter\n",
    "\n",
    "# Check class distribution\n",
    "print(\"Training set class distribution:\", Counter(y_train))\n",
    "print(\"Validation set class distribution:\", Counter(y_val))\n",
    "print(\"Test set class distribution:\", Counter(y_test))"
   ]
  },
  {
   "cell_type": "markdown",
   "metadata": {},
   "source": [
    "Remove classes with few samples"
   ]
  },
  {
   "cell_type": "code",
   "execution_count": 16,
   "metadata": {},
   "outputs": [
    {
     "name": "stdout",
     "output_type": "stream",
     "text": [
      "Filtered training set shape: (1265, 20603)\n",
      "Filtered training set class distribution: Counter({'Breast Invasive Ductal Carcinoma': 973, 'Breast Mixed Ductal and Lobular Carcinoma': 135, 'Breast Invasive Lobular Carcinoma': 101, 'Invasive Breast Carcinoma': 31, 'Breast Invasive Mixed Mucinous Carcinoma': 13, 'Breast': 12})\n"
     ]
    }
   ],
   "source": [
    "# Define a threshold for the minimum number of samples required\n",
    "min_samples = 5\n",
    "\n",
    "# Filter out classes with fewer samples than the threshold\n",
    "class_counts = y_train.value_counts()\n",
    "valid_classes = class_counts[class_counts >= min_samples].index\n",
    "\n",
    "X_train_filtered = X_train[y_train.isin(valid_classes)]\n",
    "y_train_filtered = y_train[y_train.isin(valid_classes)]\n",
    "\n",
    "print(\"Filtered training set shape:\", X_train_filtered.shape)\n",
    "print(\"Filtered training set class distribution:\", Counter(y_train_filtered))\n"
   ]
  },
  {
   "cell_type": "markdown",
   "metadata": {},
   "source": [
    "Apply RandomUnderSampler to Balance the Training Data"
   ]
  },
  {
   "cell_type": "code",
   "execution_count": 17,
   "metadata": {},
   "outputs": [
    {
     "name": "stdout",
     "output_type": "stream",
     "text": [
      "Resampled training set class distribution: Counter({'Breast': 12, 'Breast Invasive Ductal Carcinoma': 12, 'Breast Invasive Lobular Carcinoma': 12, 'Breast Invasive Mixed Mucinous Carcinoma': 12, 'Breast Mixed Ductal and Lobular Carcinoma': 12, 'Invasive Breast Carcinoma': 12})\n"
     ]
    }
   ],
   "source": [
    "from imblearn.under_sampling import RandomUnderSampler\n",
    "\n",
    "# Apply RandomUnderSampler to the filtered training set\n",
    "under_sampler = RandomUnderSampler(random_state=42)\n",
    "X_train_resampled, y_train_resampled = under_sampler.fit_resample(X_train_filtered, y_train_filtered)\n",
    "\n",
    "# Check class distribution after resampling\n",
    "print(\"Resampled training set class distribution:\", Counter(y_train_resampled))\n"
   ]
  },
  {
   "cell_type": "markdown",
   "metadata": {},
   "source": [
    "Train the Model and Evaluate"
   ]
  },
  {
   "cell_type": "code",
   "execution_count": 18,
   "metadata": {},
   "outputs": [],
   "source": [
    "from sklearn.ensemble import RandomForestClassifier\n",
    "from sklearn.metrics import classification_report, confusion_matrix\n",
    "import matplotlib.pyplot as plt\n",
    "import numpy as np"
   ]
  },
  {
   "cell_type": "code",
   "execution_count": 19,
   "metadata": {},
   "outputs": [
    {
     "data": {
      "text/html": [
       "<style>#sk-container-id-1 {\n",
       "  /* Definition of color scheme common for light and dark mode */\n",
       "  --sklearn-color-text: black;\n",
       "  --sklearn-color-line: gray;\n",
       "  /* Definition of color scheme for unfitted estimators */\n",
       "  --sklearn-color-unfitted-level-0: #fff5e6;\n",
       "  --sklearn-color-unfitted-level-1: #f6e4d2;\n",
       "  --sklearn-color-unfitted-level-2: #ffe0b3;\n",
       "  --sklearn-color-unfitted-level-3: chocolate;\n",
       "  /* Definition of color scheme for fitted estimators */\n",
       "  --sklearn-color-fitted-level-0: #f0f8ff;\n",
       "  --sklearn-color-fitted-level-1: #d4ebff;\n",
       "  --sklearn-color-fitted-level-2: #b3dbfd;\n",
       "  --sklearn-color-fitted-level-3: cornflowerblue;\n",
       "\n",
       "  /* Specific color for light theme */\n",
       "  --sklearn-color-text-on-default-background: var(--sg-text-color, var(--theme-code-foreground, var(--jp-content-font-color1, black)));\n",
       "  --sklearn-color-background: var(--sg-background-color, var(--theme-background, var(--jp-layout-color0, white)));\n",
       "  --sklearn-color-border-box: var(--sg-text-color, var(--theme-code-foreground, var(--jp-content-font-color1, black)));\n",
       "  --sklearn-color-icon: #696969;\n",
       "\n",
       "  @media (prefers-color-scheme: dark) {\n",
       "    /* Redefinition of color scheme for dark theme */\n",
       "    --sklearn-color-text-on-default-background: var(--sg-text-color, var(--theme-code-foreground, var(--jp-content-font-color1, white)));\n",
       "    --sklearn-color-background: var(--sg-background-color, var(--theme-background, var(--jp-layout-color0, #111)));\n",
       "    --sklearn-color-border-box: var(--sg-text-color, var(--theme-code-foreground, var(--jp-content-font-color1, white)));\n",
       "    --sklearn-color-icon: #878787;\n",
       "  }\n",
       "}\n",
       "\n",
       "#sk-container-id-1 {\n",
       "  color: var(--sklearn-color-text);\n",
       "}\n",
       "\n",
       "#sk-container-id-1 pre {\n",
       "  padding: 0;\n",
       "}\n",
       "\n",
       "#sk-container-id-1 input.sk-hidden--visually {\n",
       "  border: 0;\n",
       "  clip: rect(1px 1px 1px 1px);\n",
       "  clip: rect(1px, 1px, 1px, 1px);\n",
       "  height: 1px;\n",
       "  margin: -1px;\n",
       "  overflow: hidden;\n",
       "  padding: 0;\n",
       "  position: absolute;\n",
       "  width: 1px;\n",
       "}\n",
       "\n",
       "#sk-container-id-1 div.sk-dashed-wrapped {\n",
       "  border: 1px dashed var(--sklearn-color-line);\n",
       "  margin: 0 0.4em 0.5em 0.4em;\n",
       "  box-sizing: border-box;\n",
       "  padding-bottom: 0.4em;\n",
       "  background-color: var(--sklearn-color-background);\n",
       "}\n",
       "\n",
       "#sk-container-id-1 div.sk-container {\n",
       "  /* jupyter's `normalize.less` sets `[hidden] { display: none; }`\n",
       "     but bootstrap.min.css set `[hidden] { display: none !important; }`\n",
       "     so we also need the `!important` here to be able to override the\n",
       "     default hidden behavior on the sphinx rendered scikit-learn.org.\n",
       "     See: https://github.com/scikit-learn/scikit-learn/issues/21755 */\n",
       "  display: inline-block !important;\n",
       "  position: relative;\n",
       "}\n",
       "\n",
       "#sk-container-id-1 div.sk-text-repr-fallback {\n",
       "  display: none;\n",
       "}\n",
       "\n",
       "div.sk-parallel-item,\n",
       "div.sk-serial,\n",
       "div.sk-item {\n",
       "  /* draw centered vertical line to link estimators */\n",
       "  background-image: linear-gradient(var(--sklearn-color-text-on-default-background), var(--sklearn-color-text-on-default-background));\n",
       "  background-size: 2px 100%;\n",
       "  background-repeat: no-repeat;\n",
       "  background-position: center center;\n",
       "}\n",
       "\n",
       "/* Parallel-specific style estimator block */\n",
       "\n",
       "#sk-container-id-1 div.sk-parallel-item::after {\n",
       "  content: \"\";\n",
       "  width: 100%;\n",
       "  border-bottom: 2px solid var(--sklearn-color-text-on-default-background);\n",
       "  flex-grow: 1;\n",
       "}\n",
       "\n",
       "#sk-container-id-1 div.sk-parallel {\n",
       "  display: flex;\n",
       "  align-items: stretch;\n",
       "  justify-content: center;\n",
       "  background-color: var(--sklearn-color-background);\n",
       "  position: relative;\n",
       "}\n",
       "\n",
       "#sk-container-id-1 div.sk-parallel-item {\n",
       "  display: flex;\n",
       "  flex-direction: column;\n",
       "}\n",
       "\n",
       "#sk-container-id-1 div.sk-parallel-item:first-child::after {\n",
       "  align-self: flex-end;\n",
       "  width: 50%;\n",
       "}\n",
       "\n",
       "#sk-container-id-1 div.sk-parallel-item:last-child::after {\n",
       "  align-self: flex-start;\n",
       "  width: 50%;\n",
       "}\n",
       "\n",
       "#sk-container-id-1 div.sk-parallel-item:only-child::after {\n",
       "  width: 0;\n",
       "}\n",
       "\n",
       "/* Serial-specific style estimator block */\n",
       "\n",
       "#sk-container-id-1 div.sk-serial {\n",
       "  display: flex;\n",
       "  flex-direction: column;\n",
       "  align-items: center;\n",
       "  background-color: var(--sklearn-color-background);\n",
       "  padding-right: 1em;\n",
       "  padding-left: 1em;\n",
       "}\n",
       "\n",
       "\n",
       "/* Toggleable style: style used for estimator/Pipeline/ColumnTransformer box that is\n",
       "clickable and can be expanded/collapsed.\n",
       "- Pipeline and ColumnTransformer use this feature and define the default style\n",
       "- Estimators will overwrite some part of the style using the `sk-estimator` class\n",
       "*/\n",
       "\n",
       "/* Pipeline and ColumnTransformer style (default) */\n",
       "\n",
       "#sk-container-id-1 div.sk-toggleable {\n",
       "  /* Default theme specific background. It is overwritten whether we have a\n",
       "  specific estimator or a Pipeline/ColumnTransformer */\n",
       "  background-color: var(--sklearn-color-background);\n",
       "}\n",
       "\n",
       "/* Toggleable label */\n",
       "#sk-container-id-1 label.sk-toggleable__label {\n",
       "  cursor: pointer;\n",
       "  display: block;\n",
       "  width: 100%;\n",
       "  margin-bottom: 0;\n",
       "  padding: 0.5em;\n",
       "  box-sizing: border-box;\n",
       "  text-align: center;\n",
       "}\n",
       "\n",
       "#sk-container-id-1 label.sk-toggleable__label-arrow:before {\n",
       "  /* Arrow on the left of the label */\n",
       "  content: \"▸\";\n",
       "  float: left;\n",
       "  margin-right: 0.25em;\n",
       "  color: var(--sklearn-color-icon);\n",
       "}\n",
       "\n",
       "#sk-container-id-1 label.sk-toggleable__label-arrow:hover:before {\n",
       "  color: var(--sklearn-color-text);\n",
       "}\n",
       "\n",
       "/* Toggleable content - dropdown */\n",
       "\n",
       "#sk-container-id-1 div.sk-toggleable__content {\n",
       "  max-height: 0;\n",
       "  max-width: 0;\n",
       "  overflow: hidden;\n",
       "  text-align: left;\n",
       "  /* unfitted */\n",
       "  background-color: var(--sklearn-color-unfitted-level-0);\n",
       "}\n",
       "\n",
       "#sk-container-id-1 div.sk-toggleable__content.fitted {\n",
       "  /* fitted */\n",
       "  background-color: var(--sklearn-color-fitted-level-0);\n",
       "}\n",
       "\n",
       "#sk-container-id-1 div.sk-toggleable__content pre {\n",
       "  margin: 0.2em;\n",
       "  border-radius: 0.25em;\n",
       "  color: var(--sklearn-color-text);\n",
       "  /* unfitted */\n",
       "  background-color: var(--sklearn-color-unfitted-level-0);\n",
       "}\n",
       "\n",
       "#sk-container-id-1 div.sk-toggleable__content.fitted pre {\n",
       "  /* unfitted */\n",
       "  background-color: var(--sklearn-color-fitted-level-0);\n",
       "}\n",
       "\n",
       "#sk-container-id-1 input.sk-toggleable__control:checked~div.sk-toggleable__content {\n",
       "  /* Expand drop-down */\n",
       "  max-height: 200px;\n",
       "  max-width: 100%;\n",
       "  overflow: auto;\n",
       "}\n",
       "\n",
       "#sk-container-id-1 input.sk-toggleable__control:checked~label.sk-toggleable__label-arrow:before {\n",
       "  content: \"▾\";\n",
       "}\n",
       "\n",
       "/* Pipeline/ColumnTransformer-specific style */\n",
       "\n",
       "#sk-container-id-1 div.sk-label input.sk-toggleable__control:checked~label.sk-toggleable__label {\n",
       "  color: var(--sklearn-color-text);\n",
       "  background-color: var(--sklearn-color-unfitted-level-2);\n",
       "}\n",
       "\n",
       "#sk-container-id-1 div.sk-label.fitted input.sk-toggleable__control:checked~label.sk-toggleable__label {\n",
       "  background-color: var(--sklearn-color-fitted-level-2);\n",
       "}\n",
       "\n",
       "/* Estimator-specific style */\n",
       "\n",
       "/* Colorize estimator box */\n",
       "#sk-container-id-1 div.sk-estimator input.sk-toggleable__control:checked~label.sk-toggleable__label {\n",
       "  /* unfitted */\n",
       "  background-color: var(--sklearn-color-unfitted-level-2);\n",
       "}\n",
       "\n",
       "#sk-container-id-1 div.sk-estimator.fitted input.sk-toggleable__control:checked~label.sk-toggleable__label {\n",
       "  /* fitted */\n",
       "  background-color: var(--sklearn-color-fitted-level-2);\n",
       "}\n",
       "\n",
       "#sk-container-id-1 div.sk-label label.sk-toggleable__label,\n",
       "#sk-container-id-1 div.sk-label label {\n",
       "  /* The background is the default theme color */\n",
       "  color: var(--sklearn-color-text-on-default-background);\n",
       "}\n",
       "\n",
       "/* On hover, darken the color of the background */\n",
       "#sk-container-id-1 div.sk-label:hover label.sk-toggleable__label {\n",
       "  color: var(--sklearn-color-text);\n",
       "  background-color: var(--sklearn-color-unfitted-level-2);\n",
       "}\n",
       "\n",
       "/* Label box, darken color on hover, fitted */\n",
       "#sk-container-id-1 div.sk-label.fitted:hover label.sk-toggleable__label.fitted {\n",
       "  color: var(--sklearn-color-text);\n",
       "  background-color: var(--sklearn-color-fitted-level-2);\n",
       "}\n",
       "\n",
       "/* Estimator label */\n",
       "\n",
       "#sk-container-id-1 div.sk-label label {\n",
       "  font-family: monospace;\n",
       "  font-weight: bold;\n",
       "  display: inline-block;\n",
       "  line-height: 1.2em;\n",
       "}\n",
       "\n",
       "#sk-container-id-1 div.sk-label-container {\n",
       "  text-align: center;\n",
       "}\n",
       "\n",
       "/* Estimator-specific */\n",
       "#sk-container-id-1 div.sk-estimator {\n",
       "  font-family: monospace;\n",
       "  border: 1px dotted var(--sklearn-color-border-box);\n",
       "  border-radius: 0.25em;\n",
       "  box-sizing: border-box;\n",
       "  margin-bottom: 0.5em;\n",
       "  /* unfitted */\n",
       "  background-color: var(--sklearn-color-unfitted-level-0);\n",
       "}\n",
       "\n",
       "#sk-container-id-1 div.sk-estimator.fitted {\n",
       "  /* fitted */\n",
       "  background-color: var(--sklearn-color-fitted-level-0);\n",
       "}\n",
       "\n",
       "/* on hover */\n",
       "#sk-container-id-1 div.sk-estimator:hover {\n",
       "  /* unfitted */\n",
       "  background-color: var(--sklearn-color-unfitted-level-2);\n",
       "}\n",
       "\n",
       "#sk-container-id-1 div.sk-estimator.fitted:hover {\n",
       "  /* fitted */\n",
       "  background-color: var(--sklearn-color-fitted-level-2);\n",
       "}\n",
       "\n",
       "/* Specification for estimator info (e.g. \"i\" and \"?\") */\n",
       "\n",
       "/* Common style for \"i\" and \"?\" */\n",
       "\n",
       ".sk-estimator-doc-link,\n",
       "a:link.sk-estimator-doc-link,\n",
       "a:visited.sk-estimator-doc-link {\n",
       "  float: right;\n",
       "  font-size: smaller;\n",
       "  line-height: 1em;\n",
       "  font-family: monospace;\n",
       "  background-color: var(--sklearn-color-background);\n",
       "  border-radius: 1em;\n",
       "  height: 1em;\n",
       "  width: 1em;\n",
       "  text-decoration: none !important;\n",
       "  margin-left: 1ex;\n",
       "  /* unfitted */\n",
       "  border: var(--sklearn-color-unfitted-level-1) 1pt solid;\n",
       "  color: var(--sklearn-color-unfitted-level-1);\n",
       "}\n",
       "\n",
       ".sk-estimator-doc-link.fitted,\n",
       "a:link.sk-estimator-doc-link.fitted,\n",
       "a:visited.sk-estimator-doc-link.fitted {\n",
       "  /* fitted */\n",
       "  border: var(--sklearn-color-fitted-level-1) 1pt solid;\n",
       "  color: var(--sklearn-color-fitted-level-1);\n",
       "}\n",
       "\n",
       "/* On hover */\n",
       "div.sk-estimator:hover .sk-estimator-doc-link:hover,\n",
       ".sk-estimator-doc-link:hover,\n",
       "div.sk-label-container:hover .sk-estimator-doc-link:hover,\n",
       ".sk-estimator-doc-link:hover {\n",
       "  /* unfitted */\n",
       "  background-color: var(--sklearn-color-unfitted-level-3);\n",
       "  color: var(--sklearn-color-background);\n",
       "  text-decoration: none;\n",
       "}\n",
       "\n",
       "div.sk-estimator.fitted:hover .sk-estimator-doc-link.fitted:hover,\n",
       ".sk-estimator-doc-link.fitted:hover,\n",
       "div.sk-label-container:hover .sk-estimator-doc-link.fitted:hover,\n",
       ".sk-estimator-doc-link.fitted:hover {\n",
       "  /* fitted */\n",
       "  background-color: var(--sklearn-color-fitted-level-3);\n",
       "  color: var(--sklearn-color-background);\n",
       "  text-decoration: none;\n",
       "}\n",
       "\n",
       "/* Span, style for the box shown on hovering the info icon */\n",
       ".sk-estimator-doc-link span {\n",
       "  display: none;\n",
       "  z-index: 9999;\n",
       "  position: relative;\n",
       "  font-weight: normal;\n",
       "  right: .2ex;\n",
       "  padding: .5ex;\n",
       "  margin: .5ex;\n",
       "  width: min-content;\n",
       "  min-width: 20ex;\n",
       "  max-width: 50ex;\n",
       "  color: var(--sklearn-color-text);\n",
       "  box-shadow: 2pt 2pt 4pt #999;\n",
       "  /* unfitted */\n",
       "  background: var(--sklearn-color-unfitted-level-0);\n",
       "  border: .5pt solid var(--sklearn-color-unfitted-level-3);\n",
       "}\n",
       "\n",
       ".sk-estimator-doc-link.fitted span {\n",
       "  /* fitted */\n",
       "  background: var(--sklearn-color-fitted-level-0);\n",
       "  border: var(--sklearn-color-fitted-level-3);\n",
       "}\n",
       "\n",
       ".sk-estimator-doc-link:hover span {\n",
       "  display: block;\n",
       "}\n",
       "\n",
       "/* \"?\"-specific style due to the `<a>` HTML tag */\n",
       "\n",
       "#sk-container-id-1 a.estimator_doc_link {\n",
       "  float: right;\n",
       "  font-size: 1rem;\n",
       "  line-height: 1em;\n",
       "  font-family: monospace;\n",
       "  background-color: var(--sklearn-color-background);\n",
       "  border-radius: 1rem;\n",
       "  height: 1rem;\n",
       "  width: 1rem;\n",
       "  text-decoration: none;\n",
       "  /* unfitted */\n",
       "  color: var(--sklearn-color-unfitted-level-1);\n",
       "  border: var(--sklearn-color-unfitted-level-1) 1pt solid;\n",
       "}\n",
       "\n",
       "#sk-container-id-1 a.estimator_doc_link.fitted {\n",
       "  /* fitted */\n",
       "  border: var(--sklearn-color-fitted-level-1) 1pt solid;\n",
       "  color: var(--sklearn-color-fitted-level-1);\n",
       "}\n",
       "\n",
       "/* On hover */\n",
       "#sk-container-id-1 a.estimator_doc_link:hover {\n",
       "  /* unfitted */\n",
       "  background-color: var(--sklearn-color-unfitted-level-3);\n",
       "  color: var(--sklearn-color-background);\n",
       "  text-decoration: none;\n",
       "}\n",
       "\n",
       "#sk-container-id-1 a.estimator_doc_link.fitted:hover {\n",
       "  /* fitted */\n",
       "  background-color: var(--sklearn-color-fitted-level-3);\n",
       "}\n",
       "</style><div id=\"sk-container-id-1\" class=\"sk-top-container\"><div class=\"sk-text-repr-fallback\"><pre>RandomForestClassifier(random_state=42)</pre><b>In a Jupyter environment, please rerun this cell to show the HTML representation or trust the notebook. <br />On GitHub, the HTML representation is unable to render, please try loading this page with nbviewer.org.</b></div><div class=\"sk-container\" hidden><div class=\"sk-item\"><div class=\"sk-estimator fitted sk-toggleable\"><input class=\"sk-toggleable__control sk-hidden--visually\" id=\"sk-estimator-id-1\" type=\"checkbox\" checked><label for=\"sk-estimator-id-1\" class=\"sk-toggleable__label fitted sk-toggleable__label-arrow fitted\">&nbsp;&nbsp;RandomForestClassifier<a class=\"sk-estimator-doc-link fitted\" rel=\"noreferrer\" target=\"_blank\" href=\"https://scikit-learn.org/1.5/modules/generated/sklearn.ensemble.RandomForestClassifier.html\">?<span>Documentation for RandomForestClassifier</span></a><span class=\"sk-estimator-doc-link fitted\">i<span>Fitted</span></span></label><div class=\"sk-toggleable__content fitted\"><pre>RandomForestClassifier(random_state=42)</pre></div> </div></div></div></div>"
      ],
      "text/plain": [
       "RandomForestClassifier(random_state=42)"
      ]
     },
     "execution_count": 19,
     "metadata": {},
     "output_type": "execute_result"
    }
   ],
   "source": [
    "# Train a Random Forest model on the resampled training set\n",
    "clf = RandomForestClassifier(n_estimators=100, random_state=42)\n",
    "clf.fit(X_train_resampled, y_train_resampled)"
   ]
  },
  {
   "cell_type": "code",
   "execution_count": 20,
   "metadata": {},
   "outputs": [],
   "source": [
    "# Predict on the validation set\n",
    "y_val_pred = clf.predict(X_val)\n"
   ]
  },
  {
   "cell_type": "code",
   "execution_count": 21,
   "metadata": {},
   "outputs": [
    {
     "name": "stdout",
     "output_type": "stream",
     "text": [
      "Validation Set Evaluation\n",
      "[[ 0  0  0  1  1  0  0]\n",
      " [41 55 30 32 64 33  0]\n",
      " [ 4  3  4  2  1  0  0]\n",
      " [ 1  0  1  1  1  0  0]\n",
      " [16  4  5  6  5  1  0]\n",
      " [ 1  0  0  1  1  1  0]\n",
      " [ 0  1  0  0  0  0  0]]\n",
      "                                           precision    recall  f1-score   support\n",
      "\n",
      "                                   Breast       0.00      0.00      0.00         2\n",
      "         Breast Invasive Ductal Carcinoma       0.87      0.22      0.35       255\n",
      "        Breast Invasive Lobular Carcinoma       0.10      0.29      0.15        14\n",
      " Breast Invasive Mixed Mucinous Carcinoma       0.02      0.25      0.04         4\n",
      "Breast Mixed Ductal and Lobular Carcinoma       0.07      0.14      0.09        37\n",
      "                Invasive Breast Carcinoma       0.03      0.25      0.05         4\n",
      "                Metaplastic Breast Cancer       0.00      0.00      0.00         1\n",
      "\n",
      "                                 accuracy                           0.21       317\n",
      "                                macro avg       0.16      0.16      0.10       317\n",
      "                             weighted avg       0.72      0.21      0.30       317\n",
      "\n"
     ]
    }
   ],
   "source": [
    "# Evaluate model performance on the validation set\n",
    "print(\"Validation Set Evaluation\")\n",
    "print(confusion_matrix(y_val, y_val_pred))\n",
    "print(classification_report(y_val, y_val_pred, zero_division=0))"
   ]
  },
  {
   "cell_type": "code",
   "execution_count": 22,
   "metadata": {},
   "outputs": [],
   "source": [
    "# Predict on the test set\n",
    "y_test_pred = clf.predict(X_test)\n"
   ]
  },
  {
   "cell_type": "code",
   "execution_count": 23,
   "metadata": {},
   "outputs": [
    {
     "name": "stdout",
     "output_type": "stream",
     "text": [
      "Test Set Evaluation\n",
      "[[ 0  0  0  0  2  0  1]\n",
      " [ 0  0  0  1  0  0  0]\n",
      " [50  0 75 37 43 57 47]\n",
      " [ 7  0  5  9  3  5  2]\n",
      " [ 0  0  0  0  6  0  0]\n",
      " [ 5  0  1 14  8 10  1]\n",
      " [ 1  0  1  3  0  0  2]]\n",
      "                                           precision    recall  f1-score   support\n",
      "\n",
      "                                   Breast       0.00      0.00      0.00         3\n",
      "                      Breast Angiosarcoma       0.00      0.00      0.00         1\n",
      "         Breast Invasive Ductal Carcinoma       0.91      0.24      0.38       309\n",
      "        Breast Invasive Lobular Carcinoma       0.14      0.29      0.19        31\n",
      " Breast Invasive Mixed Mucinous Carcinoma       0.10      1.00      0.18         6\n",
      "Breast Mixed Ductal and Lobular Carcinoma       0.14      0.26      0.18        39\n",
      "                Invasive Breast Carcinoma       0.04      0.29      0.07         7\n",
      "\n",
      "                                 accuracy                           0.26       396\n",
      "                                macro avg       0.19      0.30      0.14       396\n",
      "                             weighted avg       0.74      0.26      0.34       396\n",
      "\n"
     ]
    }
   ],
   "source": [
    "# Evaluate model performance on the test set\n",
    "print(\"Test Set Evaluation\")\n",
    "print(confusion_matrix(y_test, y_test_pred))\n",
    "print(classification_report(y_test, y_test_pred, zero_division=0))\n"
   ]
  },
  {
   "cell_type": "code",
   "execution_count": 24,
   "metadata": {},
   "outputs": [
    {
     "data": {
      "image/png": "[encoded data removed]",
      "text/plain": [
       "<Figure size 1000x600 with 1 Axes>"
      ]
     },
     "metadata": {},
     "output_type": "display_data"
    }
   ],
   "source": [
    "# Plot feature importance\n",
    "importances = clf.feature_importances_\n",
    "indices = np.argsort(importances)[::-1]\n",
    "features = X.columns\n",
    "\n",
    "plt.figure(figsize=(10, 6))\n",
    "plt.title('Feature Importances')\n",
    "plt.bar(range(X.shape[1]), importances[indices], align='center')\n",
    "plt.xticks(range(X.shape[1]), features[indices], rotation=90)\n",
    "plt.xlim([-1, X.shape[1]])\n",
    "plt.show()"
   ]
  }
 ],
 "metadata": {
  "kernelspec": {
   "display_name": "base",
   "language": "python",
   "name": "python3"
  },
  "language_info": {
   "codemirror_mode": {
    "name": "ipython",
    "version": 3
   },
   "file_extension": ".py",
   "mimetype": "text/x-python",
   "name": "python",
   "nbconvert_exporter": "python",
   "pygments_lexer": "ipython3",
   "version": "3.12.2"
  }
 },
 "nbformat": 4,
 "nbformat_minor": 2
}
